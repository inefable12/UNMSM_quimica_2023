{
  "nbformat": 4,
  "nbformat_minor": 0,
  "metadata": {
    "colab": {
      "provenance": [],
      "authorship_tag": "ABX9TyOCdjNZ7xQGq3KuVjugHV7I",
      "include_colab_link": true
    },
    "kernelspec": {
      "name": "python3",
      "display_name": "Python 3"
    },
    "language_info": {
      "name": "python"
    }
  },
  "cells": [
    {
      "cell_type": "markdown",
      "metadata": {
        "id": "view-in-github",
        "colab_type": "text"
      },
      "source": [
        "<a href=\"https://colab.research.google.com/github/inefable12/UNMSM_quimica_2023/blob/main/Equilibrio_quimico.ipynb\" target=\"_parent\"><img src=\"https://colab.research.google.com/assets/colab-badge.svg\" alt=\"Open In Colab\"/></a>"
      ]
    },
    {
      "cell_type": "markdown",
      "source": [
        "<br>\n",
        "<br>\n",
        "<br>\n",
        "<br>\n",
        "<br>\n",
        "\n",
        "<font size='6' style=\"color:#00A6D6\">  <b>Equilibrio Químico</b> </font>\n",
        "<a name=\"loading\"></a>\n",
        "\n",
        "<font size='4' style=\"color:#00A6D6\">  <b>Jesus Alvarado-Huayhuaz\n",
        "\n",
        "</b> </font>\n",
        "<a name=\"loading\"></a>\n",
        "\n",
        "\n",
        "\n",
        "Basado en el repositorio de Marcos Rivera Almazo: https://github.com/molecular-mar/ws_python_quimica/blob/main/PythonQuimiK2.ipynb"
      ],
      "metadata": {
        "id": "f86AxGQ5Iz-Q"
      }
    },
    {
      "cell_type": "code",
      "source": [
        "import sympy"
      ],
      "metadata": {
        "id": "-9oKAZilJHVp"
      },
      "execution_count": 2,
      "outputs": []
    },
    {
      "cell_type": "code",
      "source": [
        "# Definir objetos que serán interpretados como símbolos y no como valores\n",
        "x = sympy.symbols('x')\n",
        "x"
      ],
      "metadata": {
        "colab": {
          "base_uri": "https://localhost:8080/",
          "height": 38
        },
        "id": "Q0KWJijdJN1H",
        "outputId": "8a16b38b-c8ce-47e6-ceda-be1051314c46"
      },
      "execution_count": 4,
      "outputs": [
        {
          "output_type": "execute_result",
          "data": {
            "text/plain": [
              "x"
            ],
            "text/latex": "$\\displaystyle x$"
          },
          "metadata": {},
          "execution_count": 4
        }
      ]
    },
    {
      "cell_type": "markdown",
      "source": [
        "# Ejm 1."
      ],
      "metadata": {
        "id": "AQmVjOHqCLyC"
      }
    },
    {
      "cell_type": "markdown",
      "source": [
        "Vamos a resolver un problema de equilibrio usando el método de inicio, cambio y equilibrio (ICE). Uno de los últimos pasos consiste en resolver una ecuación polinomial.Veamos un ejemplo:\n",
        "\n",
        "\n",
        "|     | 2 NH3 | $\\rightleftharpoons$ | 3 H2 (g) | + | N2 (g) |\n",
        "|:--: | :--:  |:-:|:-------: |:--:|:-----|\n",
        "| Inicio | 0.60 M |  | 0.60 M |  | 0.80 M |\n",
        "| Cambio, $\\Delta$| -2x |  |  +3x   |  |  +x    |\n",
        "| Equilibrio | 0.60 - 2x | | 0.60 + 3x |  | 0.80 + x |\n",
        "\n",
        "\n",
        "\n",
        "$$ K_c = 3.44 = \\frac{[N_2][H_2]^3}{[NH_3]^2} = \\frac{(0.80 + x)(0.60 + 3x)^3}{(0.60 - 2x)^2}  $$\n"
      ],
      "metadata": {
        "id": "NLRL19EoIz1M"
      }
    },
    {
      "cell_type": "code",
      "source": [
        "# La expresión es:\n",
        "expr = (0.80 + x) * (0.60 + 3*x)**3 / (0.60 - 2*x)**2"
      ],
      "metadata": {
        "id": "dMSQfVuZIy2y"
      },
      "execution_count": 5,
      "outputs": []
    },
    {
      "cell_type": "code",
      "source": [
        "# extendida y explicitamente\n",
        "sympy.expand(expr)"
      ],
      "metadata": {
        "colab": {
          "base_uri": "https://localhost:8080/",
          "height": 55
        },
        "id": "MJWHJKekI34U",
        "outputId": "9b84ffed-6000-4877-a064-6caf88e5dfd2"
      },
      "execution_count": 6,
      "outputs": [
        {
          "output_type": "execute_result",
          "data": {
            "text/plain": [
              "27*x**4/(4*x**2 - 2.4*x + 0.36) + 37.8*x**3/(4*x**2 - 2.4*x + 0.36) + 16.2*x**2/(4*x**2 - 2.4*x + 0.36) + 2.808*x/(4*x**2 - 2.4*x + 0.36) + 0.1728/(4*x**2 - 2.4*x + 0.36)"
            ],
            "text/latex": "$\\displaystyle \\frac{27 x^{4}}{4 x^{2} - 2.4 x + 0.36} + \\frac{37.8 x^{3}}{4 x^{2} - 2.4 x + 0.36} + \\frac{16.2 x^{2}}{4 x^{2} - 2.4 x + 0.36} + \\frac{2.808 x}{4 x^{2} - 2.4 x + 0.36} + \\frac{0.1728}{4 x^{2} - 2.4 x + 0.36}$"
          },
          "metadata": {},
          "execution_count": 6
        }
      ]
    },
    {
      "cell_type": "code",
      "source": [
        "# Finalmente obtenemos\n",
        "sympy.simplify(sympy.expand(expr))"
      ],
      "metadata": {
        "colab": {
          "base_uri": "https://localhost:8080/",
          "height": 55
        },
        "id": "FnOaSreYJXnq",
        "outputId": "402a4d05-562e-4e7d-f165-9f5fc0193ae6"
      },
      "execution_count": 7,
      "outputs": [
        {
          "output_type": "execute_result",
          "data": {
            "text/plain": [
              "(27*x**4 + 37.8*x**3 + 16.2*x**2 + 2.808*x + 0.1728)/(4*x**2 - 2.4*x + 0.36)"
            ],
            "text/latex": "$\\displaystyle \\frac{27 x^{4} + 37.8 x^{3} + 16.2 x^{2} + 2.808 x + 0.1728}{4 x^{2} - 2.4 x + 0.36}$"
          },
          "metadata": {},
          "execution_count": 7
        }
      ]
    },
    {
      "cell_type": "code",
      "source": [
        "# Resolvemos (Restamos Kc e igualamos a cero)\n",
        "sympy.solve(expr - 3.44)"
      ],
      "metadata": {
        "colab": {
          "base_uri": "https://localhost:8080/"
        },
        "id": "Il37tZ9TJZge",
        "outputId": "c4a43dd3-836d-4221-9d7a-daaf9dff823a"
      },
      "execution_count": 8,
      "outputs": [
        {
          "output_type": "execute_result",
          "data": {
            "text/plain": [
              "[-1.52752978294276,\n",
              " 0.0916567216237442,\n",
              " 0.0179365306595075 - 0.530628104891225*I,\n",
              " 0.0179365306595075 + 0.530628104891225*I]"
            ]
          },
          "metadata": {},
          "execution_count": 8
        }
      ]
    },
    {
      "cell_type": "markdown",
      "source": [
        "# Ejm 2.\n",
        "\n",
        "Una mezcla de 0.500 moles de H2 y 0.500 moles de I2 se coloca en un recipiente de acero inoxidable de 1.00 L a 430°C.\n",
        "\n",
        "La constante de equilibrio Kc para la reacción H2(g) + I2(g) $\\rightleftharpoons$ 2HI(g) es de 54.3 a esta temperatura.\n",
        "\n",
        "Calcule las concentraciones de H2, I2 y HI en el equilibrio."
      ],
      "metadata": {
        "id": "IMqZmXsfC_tF"
      }
    },
    {
      "cell_type": "markdown",
      "source": [
        "\n",
        "\n",
        "\n",
        "|     | H2 | + | I2 | $\\rightleftharpoons$ | 2 HI |\n",
        "|:--: | :--:  |:-:|:-------: |:--:|:-----|\n",
        "| Inicio | 0.500 M |  | 0.500 M |  | 0.000 M |\n",
        "| Cambio, $\\Delta$| -x |  |  -x   |  |  +2x    |\n",
        "| Equilibrio | 0.500 - x | | 0.500 - x |  | 2x |"
      ],
      "metadata": {
        "id": "6WIacRFvWcVo"
      }
    },
    {
      "cell_type": "code",
      "source": [
        "# idem\n",
        "expr = ((2*x)**2) / ((0.50 - x)*(0.50 - x))"
      ],
      "metadata": {
        "id": "sLSIxgz9JcMz"
      },
      "execution_count": 11,
      "outputs": []
    },
    {
      "cell_type": "code",
      "source": [
        "sympy.expand(expr)"
      ],
      "metadata": {
        "colab": {
          "base_uri": "https://localhost:8080/",
          "height": 55
        },
        "id": "fZ5Eq0MUK5dR",
        "outputId": "45086b73-ed9f-451a-ff77-235a8e59aaae"
      },
      "execution_count": 12,
      "outputs": [
        {
          "output_type": "execute_result",
          "data": {
            "text/plain": [
              "4*x**2/(x**2 - 1.0*x + 0.25)"
            ],
            "text/latex": "$\\displaystyle \\frac{4 x^{2}}{x^{2} - 1.0 x + 0.25}$"
          },
          "metadata": {},
          "execution_count": 12
        }
      ]
    },
    {
      "cell_type": "code",
      "source": [
        "# Resolvemos (Hay que igualar a 0)\n",
        "sympy.solve(expr - 54.3)"
      ],
      "metadata": {
        "colab": {
          "base_uri": "https://localhost:8080/"
        },
        "id": "ceaL7C3dK5aR",
        "outputId": "8dc90a8d-c3e8-4ea6-bd41-2ad6edbd85ae"
      },
      "execution_count": 13,
      "outputs": [
        {
          "output_type": "execute_result",
          "data": {
            "text/plain": [
              "[0.393263352469658, 0.686259510353404]"
            ]
          },
          "metadata": {},
          "execution_count": 13
        }
      ]
    },
    {
      "cell_type": "markdown",
      "source": [
        "Encuentra más ejemplos con ChemPy para pKa en https://www.youtube.com/watch?v=qsNqhLPGlXg (2:41:00)"
      ],
      "metadata": {
        "id": "2_5TRJqnFuxL"
      }
    },
    {
      "cell_type": "code",
      "source": [
        "cita = \"anyone who has never made a mistake has never tried anything new\"\n",
        "print(cita.capitalize().center(100))\n",
        "print(\"- Albert Einstein -\".rjust(57))"
      ],
      "metadata": {
        "colab": {
          "base_uri": "https://localhost:8080/"
        },
        "id": "qYqFX2ZoLAIZ",
        "outputId": "34a12e8e-16aa-4449-b31c-86603bb6a8a8"
      },
      "execution_count": 14,
      "outputs": [
        {
          "output_type": "stream",
          "name": "stdout",
          "text": [
            "                  Anyone who has never made a mistake has never tried anything new                  \n",
            "                                      - Albert Einstein -\n"
          ]
        }
      ]
    }
  ]
}