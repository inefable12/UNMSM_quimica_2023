{
  "nbformat": 4,
  "nbformat_minor": 0,
  "metadata": {
    "colab": {
      "provenance": [],
      "include_colab_link": true
    },
    "kernelspec": {
      "name": "python3",
      "display_name": "Python 3"
    },
    "language_info": {
      "name": "python"
    }
  },
  "cells": [
    {
      "cell_type": "markdown",
      "metadata": {
        "id": "view-in-github",
        "colab_type": "text"
      },
      "source": [
        "<a href=\"https://colab.research.google.com/github/inefable12/UNMSM_quimica_2023/blob/main/cinetica_termodinamica.ipynb\" target=\"_parent\"><img src=\"https://colab.research.google.com/assets/colab-badge.svg\" alt=\"Open In Colab\"/></a>"
      ]
    },
    {
      "cell_type": "markdown",
      "source": [
        "<br>\n",
        "<br>\n",
        "<br>\n",
        "<br>\n",
        "<br>\n",
        "\n",
        "<font size='6' style=\"color:#00A6D6\">  <b>Cinética y Termodinámica</b> </font>\n",
        "<a name=\"loading\"></a>\n",
        "\n",
        "<font size='4' style=\"color:#00A6D6\">  <b>Jesus Alvarado-Huayhuaz\n",
        "\n",
        "</b> </font>\n",
        "<a name=\"loading\"></a>"
      ],
      "metadata": {
        "id": "MFEczF8MoLOn"
      }
    },
    {
      "cell_type": "markdown",
      "source": [
        "## [1] Instalación de librerías"
      ],
      "metadata": {
        "id": "vG4LjLYnXQ3U"
      }
    },
    {
      "cell_type": "code",
      "execution_count": null,
      "metadata": {
        "id": "xE_b5Ce1Su26"
      },
      "outputs": [],
      "source": [
        "  %%capture\n",
        "  !pip install rdkit\n",
        "  !pip install pyscf"
      ]
    },
    {
      "cell_type": "code",
      "source": [
        "# Importamos librerías\n",
        "from rdkit import Chem\n",
        "from rdkit.Chem import Draw\n",
        "from rdkit.Chem import AllChem\n",
        "from rdkit.Chem.Draw import IPythonConsole\n",
        "IPythonConsole.drawOptions.addAtomIndices = True\n",
        "from pyscf import gto, scf"
      ],
      "metadata": {
        "id": "QzCqewUHWFi0"
      },
      "execution_count": null,
      "outputs": []
    },
    {
      "cell_type": "markdown",
      "source": [
        "## [2] Estructuras"
      ],
      "metadata": {
        "id": "dsrpeM_nXVXL"
      }
    },
    {
      "cell_type": "markdown",
      "source": [
        "### Isómero CIS"
      ],
      "metadata": {
        "id": "AlwW7nx0jO42"
      }
    },
    {
      "cell_type": "code",
      "source": [
        "# representación SMILES del isómero CIS\n",
        "smi_cis = \"F\\C=C/C\"\n",
        "# elemento de RDKit\n",
        "cis = Chem.MolFromSmiles(smi_cis)\n",
        "# agregamos sus hidrógenos\n",
        "cis = Chem.AddHs(cis)\n",
        "# etiquetamos sus átomos y generamos sus coordenadas usando una semilla\n",
        "Chem.AllChem.EmbedMolecule(cis, useRandomCoords=False,randomSeed=1234)\n",
        "# guardamos a un archivo XYZ\n",
        "Chem.MolToXYZFile(cis, \"cis.xyz\")"
      ],
      "metadata": {
        "id": "KOoY4QRfZF-8"
      },
      "execution_count": 9,
      "outputs": []
    },
    {
      "cell_type": "code",
      "source": [
        "#visualizamos\n",
        "cis"
      ],
      "metadata": {
        "colab": {
          "base_uri": "https://localhost:8080/",
          "height": 167
        },
        "id": "us958ET5paDJ",
        "outputId": "bc3bbfa2-580b-426c-ffd6-48d0c5970e48"
      },
      "execution_count": 10,
      "outputs": [
        {
          "output_type": "execute_result",
          "data": {
            "text/plain": [
              "<rdkit.Chem.rdchem.Mol at 0x7e340f557990>"
            ],
            "image/png": "[encoded data removed]"
          },
          "metadata": {},
          "execution_count": 10
        }
      ]
    },
    {
      "cell_type": "code",
      "source": [
        "# visualizamos las coordenadas en el archivo XYZ\n",
        "!cat initial_cis.xyz"
      ],
      "metadata": {
        "colab": {
          "base_uri": "https://localhost:8080/"
        },
        "id": "vjg18BYhdSuV",
        "outputId": "da53ddfe-c3ab-4493-c373-a0ab22d3bfd6"
      },
      "execution_count": 11,
      "outputs": [
        {
          "output_type": "stream",
          "name": "stdout",
          "text": [
            "9\n",
            "\n",
            "F      1.224313    1.588683    0.229179\n",
            "C      1.326372    0.255371   -0.008640\n",
            "C      0.266800   -0.540877   -0.109760\n",
            "C     -1.101281    0.029552    0.040326\n",
            "H      2.326087   -0.140174   -0.114587\n",
            "H      0.415309   -1.598572   -0.300884\n",
            "H     -1.290803    0.390309    1.083251\n",
            "H     -1.843790   -0.790909   -0.115870\n",
            "H     -1.323007    0.806618   -0.703014\n"
          ]
        }
      ]
    },
    {
      "cell_type": "markdown",
      "source": [
        "### Isómero TRANS"
      ],
      "metadata": {
        "id": "4CNFIBRlqAdg"
      }
    },
    {
      "cell_type": "code",
      "source": [
        "smi_trans = \"F/C=C/C\"\n",
        "trans = Chem.MolFromSmiles(smi_trans)\n",
        "trans = Chem.AddHs(trans)\n",
        "Chem.AllChem.EmbedMolecule(trans, useRandomCoords=False,randomSeed=1234)\n",
        "Chem.MolToXYZFile(trans, \"trans.xyz\")"
      ],
      "metadata": {
        "id": "eu3mLcfTW3uL"
      },
      "execution_count": 12,
      "outputs": []
    },
    {
      "cell_type": "code",
      "source": [
        "trans"
      ],
      "metadata": {
        "colab": {
          "base_uri": "https://localhost:8080/",
          "height": 167
        },
        "id": "cua9Q9x-qNgV",
        "outputId": "d8f4fa67-cd22-42e9-c9e4-4993fac379e5"
      },
      "execution_count": 13,
      "outputs": [
        {
          "output_type": "execute_result",
          "data": {
            "text/plain": [
              "<rdkit.Chem.rdchem.Mol at 0x7e340f57ab20>"
            ],
            "image/png": "[encoded data removed]"
          },
          "metadata": {},
          "execution_count": 13
        }
      ]
    },
    {
      "cell_type": "code",
      "source": [
        "!cat trans.xyz"
      ],
      "metadata": {
        "colab": {
          "base_uri": "https://localhost:8080/"
        },
        "id": "GJ7HYjy-j2Dl",
        "outputId": "c10733f2-82dd-45b2-d60f-9d08e928f865"
      },
      "execution_count": 14,
      "outputs": [
        {
          "output_type": "stream",
          "name": "stdout",
          "text": [
            "9\n",
            "\n",
            "F      2.548043    0.255798   -0.051804\n",
            "C      1.310325   -0.297546    0.040056\n",
            "C      0.243682    0.487148   -0.067889\n",
            "C     -1.128832   -0.079367    0.026988\n",
            "H      1.169516   -1.367331    0.199862\n",
            "H      0.416502    1.563075   -0.228819\n",
            "H     -1.412747   -0.391958    1.029624\n",
            "H     -1.305683   -0.908523   -0.662271\n",
            "H     -1.840807    0.738703   -0.285747\n"
          ]
        }
      ]
    },
    {
      "cell_type": "markdown",
      "source": [
        "### Diedro = 90.0 º"
      ],
      "metadata": {
        "id": "cgwVN0EcjTyG"
      }
    },
    {
      "cell_type": "code",
      "source": [
        "Chem.AllChem.SetDihedralDeg(cis.GetConformer(0),3,2,1,0,90.0)\n",
        "Chem.MolToXYZFile(cis, \"diedro90.xyz\")\n",
        "cis"
      ],
      "metadata": {
        "colab": {
          "base_uri": "https://localhost:8080/",
          "height": 167
        },
        "id": "SnPyM7kAaPU8",
        "outputId": "e56fbf45-6718-4481-f010-5dbf818662ba"
      },
      "execution_count": 15,
      "outputs": [
        {
          "output_type": "execute_result",
          "data": {
            "text/plain": [
              "<rdkit.Chem.rdchem.Mol at 0x7e340f557990>"
            ],
            "image/png": "[encoded data removed]"
          },
          "metadata": {},
          "execution_count": 15
        }
      ]
    },
    {
      "cell_type": "code",
      "source": [
        "!cat diedro90.xyz"
      ],
      "metadata": {
        "colab": {
          "base_uri": "https://localhost:8080/"
        },
        "id": "Ff-MLt7Ud5JS",
        "outputId": "cbec8fe7-dffe-4f50-fe04-886cb730d793"
      },
      "execution_count": 16,
      "outputs": [
        {
          "output_type": "stream",
          "name": "stdout",
          "text": [
            "9\n",
            "\n",
            "F      1.953607    0.498569    1.171244\n",
            "C      1.326372    0.255371   -0.008640\n",
            "C      0.266800   -0.540877   -0.109760\n",
            "C     -1.101281    0.029552    0.040326\n",
            "H      1.732922    0.746460   -0.880798\n",
            "H      0.415309   -1.598572   -0.300884\n",
            "H     -1.290803    0.390309    1.083251\n",
            "H     -1.843790   -0.790909   -0.115870\n",
            "H     -1.323007    0.806618   -0.703014\n"
          ]
        }
      ]
    },
    {
      "cell_type": "markdown",
      "source": [
        "## [3] Cálculo de energía"
      ],
      "metadata": {
        "id": "Na1RtCaFhFkJ"
      }
    },
    {
      "cell_type": "markdown",
      "source": [
        "### CIS"
      ],
      "metadata": {
        "id": "N_yA7D_Wj8m-"
      }
    },
    {
      "cell_type": "code",
      "source": [
        "cis = gto.M(atom=\"cis.xyz\")"
      ],
      "metadata": {
        "id": "AQ7auPkOhI5Z"
      },
      "execution_count": 17,
      "outputs": []
    },
    {
      "cell_type": "code",
      "source": [
        "cis.basis = \"6-31G\"\n",
        "mf_cis = cis.KS()\n",
        "mf_cis.xc = 'b3lyp'"
      ],
      "metadata": {
        "id": "yXVgChkZhQMB"
      },
      "execution_count": 18,
      "outputs": []
    },
    {
      "cell_type": "code",
      "source": [
        "resultado_cis = mf_cis.kernel()\n",
        "resultado_cis"
      ],
      "metadata": {
        "colab": {
          "base_uri": "https://localhost:8080/"
        },
        "id": "UBEOexDCh1F1",
        "outputId": "4b41ed65-c032-4691-e449-fd638033fe26"
      },
      "execution_count": 19,
      "outputs": [
        {
          "output_type": "stream",
          "name": "stdout",
          "text": [
            "converged SCF energy = -214.253613242031\n"
          ]
        },
        {
          "output_type": "execute_result",
          "data": {
            "text/plain": [
              "-214.25361324203055"
            ]
          },
          "metadata": {},
          "execution_count": 19
        }
      ]
    },
    {
      "cell_type": "markdown",
      "source": [
        "### Diedro 90"
      ],
      "metadata": {
        "id": "KvP9y3Bcj_al"
      }
    },
    {
      "cell_type": "code",
      "source": [
        "cis_90 = gto.M(atom=\"diedro90.xyz\")"
      ],
      "metadata": {
        "id": "HOG1U-DBkWEC"
      },
      "execution_count": 20,
      "outputs": []
    },
    {
      "cell_type": "code",
      "source": [
        "cis_90.basis = \"6-31G\"\n",
        "mf_90 = cis_90.KS()\n",
        "mf_90.xc = 'b3lyp'"
      ],
      "metadata": {
        "id": "odzdddSWkWED"
      },
      "execution_count": 21,
      "outputs": []
    },
    {
      "cell_type": "code",
      "source": [
        "resultado_cis_90 = mf_90.kernel()\n",
        "resultado_cis_90"
      ],
      "metadata": {
        "colab": {
          "base_uri": "https://localhost:8080/"
        },
        "outputId": "4f3b786f-73f5-4b83-e190-28fd80916b20",
        "id": "gtbFA7SZkWEE"
      },
      "execution_count": 22,
      "outputs": [
        {
          "output_type": "stream",
          "name": "stdout",
          "text": [
            "converged SCF energy = -214.089244975096\n"
          ]
        },
        {
          "output_type": "execute_result",
          "data": {
            "text/plain": [
              "-214.08924497509634"
            ]
          },
          "metadata": {},
          "execution_count": 22
        }
      ]
    },
    {
      "cell_type": "markdown",
      "source": [
        "### TRANS"
      ],
      "metadata": {
        "id": "7FBAAV6LkP1m"
      }
    },
    {
      "cell_type": "code",
      "source": [
        "trans = gto.M(atom=\"trans.xyz\")"
      ],
      "metadata": {
        "id": "YbsfqumolIfM"
      },
      "execution_count": 23,
      "outputs": []
    },
    {
      "cell_type": "code",
      "source": [
        "trans.basis = \"6-31G\"\n",
        "mf_trans = trans.KS()\n",
        "mf_trans.xc = 'b3lyp'"
      ],
      "metadata": {
        "id": "og1W3XKPlIfN"
      },
      "execution_count": 24,
      "outputs": []
    },
    {
      "cell_type": "code",
      "source": [
        "resultado_trans= mf_trans.kernel()\n",
        "resultado_trans"
      ],
      "metadata": {
        "colab": {
          "base_uri": "https://localhost:8080/"
        },
        "outputId": "a28a9605-d41c-4519-98e6-3876500866fd",
        "id": "qp4GWMetlIfR"
      },
      "execution_count": 25,
      "outputs": [
        {
          "output_type": "stream",
          "name": "stdout",
          "text": [
            "converged SCF energy = -214.250988732768\n"
          ]
        },
        {
          "output_type": "execute_result",
          "data": {
            "text/plain": [
              "-214.25098873276818"
            ]
          },
          "metadata": {},
          "execution_count": 25
        }
      ]
    },
    {
      "cell_type": "markdown",
      "source": [
        "## 4. Gráfica"
      ],
      "metadata": {
        "id": "EFC_5fDaiUdu"
      }
    },
    {
      "cell_type": "code",
      "source": [
        "%%capture\n",
        "!pip install git+https://github.com/giacomomarchioro/PyEnergyDiagrams"
      ],
      "metadata": {
        "id": "FwuNY2YAmqXD"
      },
      "execution_count": 26,
      "outputs": []
    },
    {
      "cell_type": "code",
      "source": [
        "import matplotlib.pyplot as plt\n",
        "from energydiagram import ED"
      ],
      "metadata": {
        "id": "zwj1LJ3ziUF3"
      },
      "execution_count": 27,
      "outputs": []
    },
    {
      "cell_type": "code",
      "source": [
        "diagram = ED()\n",
        "diagram.add_level(resultado_cis,'Cis',color='y')\n",
        "diagram.add_level(resultado_cis_90,'TS',color='r')\n",
        "diagram.add_level(resultado_trans,'trans',color='g')\n",
        "\n",
        "diagram.add_link(0,1)\n",
        "diagram.add_link(1,2)\n",
        "diagram.plot(ylabel=\"Energy\") # / $kcal$ $mol^{-1}$\")"
      ],
      "metadata": {
        "colab": {
          "base_uri": "https://localhost:8080/",
          "height": 393
        },
        "id": "FB0mkhCwsIrs",
        "outputId": "834942eb-2199-436e-9b6b-54b799a0e5f3"
      },
      "execution_count": 33,
      "outputs": [
        {
          "output_type": "display_data",
          "data": {
            "text/plain": [
              "<Figure size 640x480 with 1 Axes>"
            ],
            "image/png": "[encoded data removed]"
          },
          "metadata": {}
        }
      ]
    },
    {
      "cell_type": "markdown",
      "source": [
        "## Cinética:"
      ],
      "metadata": {
        "id": "s6KjCM68siqt"
      }
    },
    {
      "cell_type": "code",
      "source": [
        "E_activacion = resultado_cis_90 - resultado_cis\n",
        "E_activacion"
      ],
      "metadata": {
        "colab": {
          "base_uri": "https://localhost:8080/"
        },
        "id": "5FxZxUSgsmcs",
        "outputId": "d899dafa-3654-489b-f27f-9b03d7c1ec9e"
      },
      "execution_count": 34,
      "outputs": [
        {
          "output_type": "execute_result",
          "data": {
            "text/plain": [
              "0.16436826693421835"
            ]
          },
          "metadata": {},
          "execution_count": 34
        }
      ]
    },
    {
      "cell_type": "markdown",
      "source": [
        "## Termodinámica"
      ],
      "metadata": {
        "id": "WyDYLxxoiauo"
      }
    },
    {
      "cell_type": "code",
      "source": [
        "entalpia = resultado_trans - resultado_cis\n",
        "if entalpia>0:\n",
        "  print(\"La reacción es endotérmica\")\n",
        "else:\n",
        "    print(\"La reacción es exotérmica\")"
      ],
      "metadata": {
        "colab": {
          "base_uri": "https://localhost:8080/"
        },
        "id": "fBTGtt-Ii9Zv",
        "outputId": "c11f087d-5bc7-486f-d61a-831a462327d6"
      },
      "execution_count": 29,
      "outputs": [
        {
          "output_type": "stream",
          "name": "stdout",
          "text": [
            "La reacción es endotérmica\n"
          ]
        }
      ]
    }
  ]
}